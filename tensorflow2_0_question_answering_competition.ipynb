{
  "nbformat": 4,
  "nbformat_minor": 0,
  "metadata": {
    "colab": {
      "name": "tensorflow2_0_question_answering_competition.ipynb",
      "provenance": [],
      "collapsed_sections": [],
      "machine_shape": "hm",
      "authorship_tag": "ABX9TyNC+qbWlyGHLbBAFSNIXjDC",
      "include_colab_link": true
    },
    "kernelspec": {
      "name": "python3",
      "display_name": "Python 3"
    },
    "accelerator": "TPU"
  },
  "cells": [
    {
      "cell_type": "markdown",
      "metadata": {
        "id": "view-in-github",
        "colab_type": "text"
      },
      "source": [
        "<a href=\"https://colab.research.google.com/github/amarsinghen/question_answering_kaggle/blob/master/tensorflow2_0_question_answering_competition.ipynb\" target=\"_parent\"><img src=\"https://colab.research.google.com/assets/colab-badge.svg\" alt=\"Open In Colab\"/></a>"
      ]
    },
    {
      "cell_type": "code",
      "metadata": {
        "id": "aeT-4QYhGaOn",
        "colab_type": "code",
        "colab": {}
      },
      "source": [
        "try:\n",
        "  # %tensorflow_version only exists in Colab.\n",
        "  %tensorflow_version 2.x\n",
        "except Exception:\n",
        "  pass"
      ],
      "execution_count": 0,
      "outputs": []
    },
    {
      "cell_type": "code",
      "metadata": {
        "id": "Xpej3J54HIlJ",
        "colab_type": "code",
        "colab": {
          "base_uri": "https://localhost:8080/",
          "height": 34
        },
        "outputId": "28949cfd-1e9c-464b-bc97-beecdd9ebcbe"
      },
      "source": [
        "import tensorflow as tf\n",
        "tf.__version__"
      ],
      "execution_count": 8,
      "outputs": [
        {
          "output_type": "execute_result",
          "data": {
            "text/plain": [
              "'2.1.0-rc1'"
            ]
          },
          "metadata": {
            "tags": []
          },
          "execution_count": 8
        }
      ]
    },
    {
      "cell_type": "code",
      "metadata": {
        "id": "FQruBRfOw_-X",
        "colab_type": "code",
        "outputId": "d51b8737-fc33-4edc-b6c8-e38b75c4270d",
        "colab": {
          "base_uri": "https://localhost:8080/",
          "height": 386
        }
      },
      "source": [
        "# Run this cell and select the kaggle.json file downloaded\n",
        "# from the Kaggle account settings page.\n",
        "from google.colab import files\n",
        "uploaded = files.upload()"
      ],
      "execution_count": 2,
      "outputs": [
        {
          "output_type": "display_data",
          "data": {
            "text/html": [
              "\n",
              "     <input type=\"file\" id=\"files-c29021f6-6d61-45d7-bd32-8208b6e23b98\" name=\"files[]\" multiple disabled />\n",
              "     <output id=\"result-c29021f6-6d61-45d7-bd32-8208b6e23b98\">\n",
              "      Upload widget is only available when the cell has been executed in the\n",
              "      current browser session. Please rerun this cell to enable.\n",
              "      </output>\n",
              "      <script src=\"/nbextensions/google.colab/files.js\"></script> "
            ],
            "text/plain": [
              "<IPython.core.display.HTML object>"
            ]
          },
          "metadata": {
            "tags": []
          }
        },
        {
          "output_type": "error",
          "ename": "MessageError",
          "evalue": "ignored",
          "traceback": [
            "\u001b[0;31m---------------------------------------------------------------------------\u001b[0m",
            "\u001b[0;31mMessageError\u001b[0m                              Traceback (most recent call last)",
            "\u001b[0;32m<ipython-input-2-21dc3c638f66>\u001b[0m in \u001b[0;36m<module>\u001b[0;34m()\u001b[0m\n\u001b[1;32m      1\u001b[0m \u001b[0;32mfrom\u001b[0m \u001b[0mgoogle\u001b[0m\u001b[0;34m.\u001b[0m\u001b[0mcolab\u001b[0m \u001b[0;32mimport\u001b[0m \u001b[0mfiles\u001b[0m\u001b[0;34m\u001b[0m\u001b[0;34m\u001b[0m\u001b[0m\n\u001b[0;32m----> 2\u001b[0;31m \u001b[0muploaded\u001b[0m \u001b[0;34m=\u001b[0m \u001b[0mfiles\u001b[0m\u001b[0;34m.\u001b[0m\u001b[0mupload\u001b[0m\u001b[0;34m(\u001b[0m\u001b[0;34m)\u001b[0m\u001b[0;34m\u001b[0m\u001b[0;34m\u001b[0m\u001b[0m\n\u001b[0m",
            "\u001b[0;32m/usr/local/lib/python3.6/dist-packages/google/colab/files.py\u001b[0m in \u001b[0;36mupload\u001b[0;34m()\u001b[0m\n\u001b[1;32m     62\u001b[0m   result = _output.eval_js(\n\u001b[1;32m     63\u001b[0m       'google.colab._files._uploadFiles(\"{input_id}\", \"{output_id}\")'.format(\n\u001b[0;32m---> 64\u001b[0;31m           input_id=input_id, output_id=output_id))\n\u001b[0m\u001b[1;32m     65\u001b[0m   \u001b[0mfiles\u001b[0m \u001b[0;34m=\u001b[0m \u001b[0m_collections\u001b[0m\u001b[0;34m.\u001b[0m\u001b[0mdefaultdict\u001b[0m\u001b[0;34m(\u001b[0m\u001b[0m_six\u001b[0m\u001b[0;34m.\u001b[0m\u001b[0mbinary_type\u001b[0m\u001b[0;34m)\u001b[0m\u001b[0;34m\u001b[0m\u001b[0;34m\u001b[0m\u001b[0m\n\u001b[1;32m     66\u001b[0m   \u001b[0;31m# Mapping from original filename to filename as saved locally.\u001b[0m\u001b[0;34m\u001b[0m\u001b[0;34m\u001b[0m\u001b[0;34m\u001b[0m\u001b[0m\n",
            "\u001b[0;32m/usr/local/lib/python3.6/dist-packages/google/colab/output/_js.py\u001b[0m in \u001b[0;36meval_js\u001b[0;34m(script, ignore_result)\u001b[0m\n\u001b[1;32m     37\u001b[0m   \u001b[0;32mif\u001b[0m \u001b[0mignore_result\u001b[0m\u001b[0;34m:\u001b[0m\u001b[0;34m\u001b[0m\u001b[0;34m\u001b[0m\u001b[0m\n\u001b[1;32m     38\u001b[0m     \u001b[0;32mreturn\u001b[0m\u001b[0;34m\u001b[0m\u001b[0;34m\u001b[0m\u001b[0m\n\u001b[0;32m---> 39\u001b[0;31m   \u001b[0;32mreturn\u001b[0m \u001b[0m_message\u001b[0m\u001b[0;34m.\u001b[0m\u001b[0mread_reply_from_input\u001b[0m\u001b[0;34m(\u001b[0m\u001b[0mrequest_id\u001b[0m\u001b[0;34m)\u001b[0m\u001b[0;34m\u001b[0m\u001b[0;34m\u001b[0m\u001b[0m\n\u001b[0m\u001b[1;32m     40\u001b[0m \u001b[0;34m\u001b[0m\u001b[0m\n\u001b[1;32m     41\u001b[0m \u001b[0;34m\u001b[0m\u001b[0m\n",
            "\u001b[0;32m/usr/local/lib/python3.6/dist-packages/google/colab/_message.py\u001b[0m in \u001b[0;36mread_reply_from_input\u001b[0;34m(message_id, timeout_sec)\u001b[0m\n\u001b[1;32m    104\u001b[0m         reply.get('colab_msg_id') == message_id):\n\u001b[1;32m    105\u001b[0m       \u001b[0;32mif\u001b[0m \u001b[0;34m'error'\u001b[0m \u001b[0;32min\u001b[0m \u001b[0mreply\u001b[0m\u001b[0;34m:\u001b[0m\u001b[0;34m\u001b[0m\u001b[0;34m\u001b[0m\u001b[0m\n\u001b[0;32m--> 106\u001b[0;31m         \u001b[0;32mraise\u001b[0m \u001b[0mMessageError\u001b[0m\u001b[0;34m(\u001b[0m\u001b[0mreply\u001b[0m\u001b[0;34m[\u001b[0m\u001b[0;34m'error'\u001b[0m\u001b[0;34m]\u001b[0m\u001b[0;34m)\u001b[0m\u001b[0;34m\u001b[0m\u001b[0;34m\u001b[0m\u001b[0m\n\u001b[0m\u001b[1;32m    107\u001b[0m       \u001b[0;32mreturn\u001b[0m \u001b[0mreply\u001b[0m\u001b[0;34m.\u001b[0m\u001b[0mget\u001b[0m\u001b[0;34m(\u001b[0m\u001b[0;34m'data'\u001b[0m\u001b[0;34m,\u001b[0m \u001b[0;32mNone\u001b[0m\u001b[0;34m)\u001b[0m\u001b[0;34m\u001b[0m\u001b[0;34m\u001b[0m\u001b[0m\n\u001b[1;32m    108\u001b[0m \u001b[0;34m\u001b[0m\u001b[0m\n",
            "\u001b[0;31mMessageError\u001b[0m: TypeError: google.colab._files is undefined"
          ]
        }
      ]
    },
    {
      "cell_type": "code",
      "metadata": {
        "id": "iIORkzAuxG7E",
        "colab_type": "code",
        "colab": {}
      },
      "source": [
        "!pip install -q kaggle"
      ],
      "execution_count": 0,
      "outputs": []
    },
    {
      "cell_type": "code",
      "metadata": {
        "id": "nHRosf0Dyt-E",
        "colab_type": "code",
        "colab": {}
      },
      "source": [
        "# The Kaggle API client expects this file to be in ~/.kaggle,\n",
        "# so move it there.\n",
        "!mkdir -p ~/.kaggle\n",
        "!cp kaggle.json ~/.kaggle/"
      ],
      "execution_count": 0,
      "outputs": []
    },
    {
      "cell_type": "code",
      "metadata": {
        "id": "laY1wfuoyyXL",
        "colab_type": "code",
        "colab": {}
      },
      "source": [
        "# This permissions change avoids a warning on Kaggle tool startup.\n",
        "!chmod 600 ~/.kaggle/kaggle.json"
      ],
      "execution_count": 0,
      "outputs": []
    },
    {
      "cell_type": "code",
      "metadata": {
        "id": "I71aZV3tv-Nx",
        "colab_type": "code",
        "outputId": "dc3f897d-f908-4e39-b593-64a4c2a2df9a",
        "colab": {
          "base_uri": "https://localhost:8080/",
          "height": 211
        }
      },
      "source": [
        "!kaggle competitions download -c tensorflow2-question-answering"
      ],
      "execution_count": 12,
      "outputs": [
        {
          "output_type": "stream",
          "text": [
            "Warning: Looks like you're using an outdated API Version, please consider updating (server 1.5.6 / client 1.5.4)\n",
            "Downloading simplified-nq-test.jsonl.zip to /content\n",
            "100% 4.78M/4.78M [00:00<00:00, 39.0MB/s]\n",
            "\n",
            "Downloading simplified-nq-train.jsonl.zip to /content\n",
            "100% 4.45G/4.46G [01:02<00:00, 91.6MB/s]\n",
            "100% 4.46G/4.46G [01:02<00:00, 76.5MB/s]\n",
            "Downloading sample_submission.csv to /content\n",
            "  0% 0.00/18.2k [00:00<?, ?B/s]\n",
            "100% 18.2k/18.2k [00:00<00:00, 18.7MB/s]\n"
          ],
          "name": "stdout"
        }
      ]
    },
    {
      "cell_type": "code",
      "metadata": {
        "id": "WcuGguiRAnYd",
        "colab_type": "code",
        "colab": {}
      },
      "source": [
        "import zipfile\n",
        "local_zip = 'simplified-nq-train.jsonl.zip'\n",
        "zip_ref = zipfile.ZipFile(local_zip, 'r')\n",
        "zip_ref.extractall('/tmp')\n",
        "zip_ref.close()"
      ],
      "execution_count": 0,
      "outputs": []
    },
    {
      "cell_type": "code",
      "metadata": {
        "id": "C5xl2RHlzr7i",
        "colab_type": "code",
        "colab": {}
      },
      "source": [
        "import pandas as pd\n",
        "nq_train_df = pd.read_json('/tmp/simplified-nq-train.jsonl', lines=True)"
      ],
      "execution_count": 0,
      "outputs": []
    },
    {
      "cell_type": "code",
      "metadata": {
        "id": "bDZkVm3p0CeX",
        "colab_type": "code",
        "colab": {
          "base_uri": "https://localhost:8080/",
          "height": 34
        },
        "outputId": "9b3e99a9-6292-4139-87e3-3771d22b7d94"
      },
      "source": [
        "!ls -l /tmp/simplified-nq-train.jsonl"
      ],
      "execution_count": 1,
      "outputs": [
        {
          "output_type": "stream",
          "text": [
            "-rw-r--r-- 1 root root 17454394481 Jan 12 19:02 /tmp/simplified-nq-train.jsonl\n"
          ],
          "name": "stdout"
        }
      ]
    },
    {
      "cell_type": "code",
      "metadata": {
        "id": "-6K3Kri1OWMF",
        "colab_type": "code",
        "colab": {}
      },
      "source": [
        "!apt-get install openjdk-8-jdk-headless -qq > /dev/null\n",
        "!wget -q https://www-us.apache.org/dist/spark/spark-2.4.4/spark-2.4.4-bin-hadoop2.7.tgz\n",
        "!tar xf spark-2.4.4-bin-hadoop2.7.tgz\n",
        "!pip install -q findspark"
      ],
      "execution_count": 0,
      "outputs": []
    },
    {
      "cell_type": "code",
      "metadata": {
        "id": "gDCrfXnaS2A2",
        "colab_type": "code",
        "colab": {}
      },
      "source": [
        "import os\n",
        "os.environ[\"JAVA_HOME\"] = \"/usr/lib/jvm/java-8-openjdk-amd64\"\n",
        "os.environ[\"SPARK_HOME\"] = \"/content/spark-2.4.4-bin-hadoop2.7\""
      ],
      "execution_count": 0,
      "outputs": []
    },
    {
      "cell_type": "code",
      "metadata": {
        "id": "xTeFzRgrTn1W",
        "colab_type": "code",
        "colab": {}
      },
      "source": [
        "import findspark\n",
        "findspark.init()\n",
        "from pyspark.sql import SparkSession\n",
        "spark = SparkSession.builder.master(\"local[*]\").getOrCreate()"
      ],
      "execution_count": 0,
      "outputs": []
    },
    {
      "cell_type": "code",
      "metadata": {
        "id": "tVUZzggwTqQC",
        "colab_type": "code",
        "colab": {}
      },
      "source": [
        "df = spark.read.json('/tmp/simplified-nq-train.jsonl')"
      ],
      "execution_count": 0,
      "outputs": []
    },
    {
      "cell_type": "code",
      "metadata": {
        "id": "7fL_B0KqUyOW",
        "colab_type": "code",
        "colab": {
          "base_uri": "https://localhost:8080/",
          "height": 489
        },
        "outputId": "2dbf71f2-03af-4488-97b8-8b0b1b24cd2c"
      },
      "source": [
        "df.show()"
      ],
      "execution_count": 20,
      "outputs": [
        {
          "output_type": "stream",
          "text": [
            "+--------------------+--------------------+--------------------+--------------------+----------------------+--------------------+\n",
            "|         annotations|       document_text|        document_url|          example_id|long_answer_candidates|       question_text|\n",
            "+--------------------+--------------------+--------------------+--------------------+----------------------+--------------------+\n",
            "|[[593165450220027...|Email marketing -...|https://en.wikipe...| 5655493461695504401|  [[170, 14, true],...|which is the most...|\n",
            "|[[120348741537837...|The Mother ( How ...|https://en.wikipe...| 5328212470870865242|  [[212, 28, true],...|how i.met your mo...|\n",
            "|[[105271230098927...|Human fertilizati...|https://en.wikipe...| 4435104480114867852|  [[225, 14, true],...|what type of fert...|\n",
            "|[[146347963651525...|List of National ...|https://en.wikipe...| 5289242154789678439|  [[469, 28, true],...|who had the most ...|\n",
            "|[[110385499948886...|Roanoke Colony - ...|https://en.wikipe...| 5489863933082811018|  [[88, 32, true], ...|what happened to ...|\n",
            "|[[159804244956723...|List of regions o...|https://en.wikipe...| 3411244446249504947|  [[65, 14, true], ...|what are the diff...|\n",
            "|[[126447624782856...|Pom Klementieff -...|https://en.wikipe...|-2500044561429484630|  [[82, 14, true], ...|who played mantis...|\n",
            "|[[830054966648289...|Frosty the Snowma...|https://en.wikipe...| 5611750702541347162|  [[73, 22, true], ...|who did the voice...|\n",
            "|[[166296638602184...|History of the Ac...|https://en.wikipe...| 4958098854057393062|  [[96, 23, true], ...|what indian tribe...|\n",
            "|[[905556203815888...|Outer Banks - wik...|https://en.wikipe...| 8796576945844451825|  [[128, 59, true],...|what is considere...|\n",
            "|[[133767109602389...|Deputy chief Mini...|https://en.wikipe...|-8799945603687418006|  [[82, 20, true], ...|who is deputy cm ...|\n",
            "|[[161947406750343...|Bangko Sentral ng...|https://en.wikipe...| 3008113339755798094|  [[227, 14, true],...|bangko sentral ng...|\n",
            "|[[183472235098053...|Takt time - wikip...|https://en.wikipe...| 2431787281776151524|  [[90, 45, true], ...|actual time taken...|\n",
            "|[[130711348786458...|I Had trouble in ...|https://en.wikipe...| 3151922095559227960|  [[146, 26, true],...|i had trouble in ...|\n",
            "|[[790367674949120...|Shape of You - wi...|https://en.wikipe...|-5383162171257302038|  [[311, 30, true],...|ed sheeran i ' m ...|\n",
            "|[[141087590794862...|Nashville sound -...|https://en.wikipe...|  212419696952141239|  [[97, 14, true], ...|the nashville sou...|\n",
            "|[[127191432151929...|The New Atlantis ...|https://en.wikipe...| 1346483401345508111|  [[138, 22, true],...|the new atlantis ...|\n",
            "|[[592515792257037...|Wonders of the Wo...|https://en.wikipe...| 2812498425575258667|  [[155, 122, true]...|list the seven wo...|\n",
            "|[[107928840788558...|Rolling Stone 's ...|https://en.wikipe...| 5185023041938978817|  [[92, 22, true], ...|rolling stone top...|\n",
            "|[[143620019966857...|List of Premier L...|https://en.wikipe...|-1706790511507651062|  [[108, 20, true],...|what channel is t...|\n",
            "+--------------------+--------------------+--------------------+--------------------+----------------------+--------------------+\n",
            "only showing top 20 rows\n",
            "\n"
          ],
          "name": "stdout"
        }
      ]
    },
    {
      "cell_type": "code",
      "metadata": {
        "id": "jhboMb3IW8hB",
        "colab_type": "code",
        "colab": {
          "base_uri": "https://localhost:8080/",
          "height": 54
        },
        "outputId": "e3b7a992-c6b5-48ba-ea50-a19106f141af"
      },
      "source": [
        "df.head(1)"
      ],
      "execution_count": 24,
      "outputs": [
        {
          "output_type": "execute_result",
          "data": {
            "text/plain": [
              "[Row(annotations=[Row(annotation_id=Decimal('593165450220027640'), long_answer=Row(candidate_index=54, end_token=2019, start_token=1952), short_answers=[Row(end_token=1969, start_token=1960)], yes_no_answer='NONE')], document_text=\"Email marketing - Wikipedia <H1> Email marketing </H1> Jump to : navigation , search <Table> <Tr> <Td> </Td> <Td> ( hide ) This article has multiple issues . Please help improve it or discuss these issues on the talk page . ( Learn how and when to remove these template messages ) <Table> <Tr> <Td> </Td> <Td> This article needs additional citations for verification . Please help improve this article by adding citations to reliable sources . Unsourced material may be challenged and removed . ( September 2014 ) ( Learn how and when to remove this template message ) </Td> </Tr> </Table> <Table> <Tr> <Td> </Td> <Td> This article possibly contains original research . Please improve it by verifying the claims made and adding inline citations . Statements consisting only of original research should be removed . ( January 2015 ) ( Learn how and when to remove this template message ) </Td> </Tr> </Table> ( Learn how and when to remove this template message ) </Td> </Tr> </Table> <Table> <Tr> <Td> Part of a series on </Td> </Tr> <Tr> <Th> Internet marketing </Th> </Tr> <Tr> <Td> <Ul> <Li> Search engine optimization </Li> <Li> Local search engine optimisation </Li> <Li> Social media marketing </Li> <Li> Email marketing </Li> <Li> Referral marketing </Li> <Li> Content marketing </Li> <Li> Native advertising </Li> </Ul> </Td> </Tr> <Tr> <Th> Search engine marketing </Th> </Tr> <Tr> <Td> <Ul> <Li> Pay - per - click </Li> <Li> Cost per impression </Li> <Li> Search analytics </Li> <Li> Web analytics </Li> </Ul> </Td> </Tr> <Tr> <Th> Display advertising </Th> </Tr> <Tr> <Td> <Ul> <Li> Ad blocking </Li> <Li> Contextual advertising </Li> <Li> Behavioral targeting </Li> </Ul> </Td> </Tr> <Tr> <Th> Affiliate marketing </Th> </Tr> <Tr> <Td> <Ul> <Li> Cost per action </Li> <Li> Revenue sharing </Li> </Ul> </Td> </Tr> <Tr> <Th> Mobile advertising </Th> </Tr> <Tr> <Td> <Ul> <Li> </Li> <Li> </Li> <Li> </Li> </Ul> </Td> </Tr> </Table> <P> Email marketing is the act of sending a commercial message , typically to a group of people , using email . In its broadest sense , every email sent to a potential or current customer could be considered email marketing . It usually involves using email to send advertisements , request business , or solicit sales or donations , and is meant to build loyalty , trust , or brand awareness . Marketing emails can be sent to a purchased lead list or a current customer database . The term usually refers to sending email messages with the purpose of enhancing a merchant 's relationship with current or previous customers , encouraging customer loyalty and repeat business , acquiring new customers or convincing current customers to purchase something immediately , and sharing third - party ads . </P> <P> </P> <H2> Contents </H2> ( hide ) <Ul> <Li> 1 History </Li> <Li> 2 Types <Ul> <Li> 2.1 Transactional emails </Li> <Li> 2.2 Direct emails <Ul> <Li> 2.2. 1 Mobile email marketing </Li> </Ul> </Li> </Ul> </Li> <Li> 3 Comparison to traditional mail <Ul> <Li> 3.1 Advantages </Li> <Li> 3.2 Disadvantages </Li> </Ul> </Li> <Li> 4 Opt - in email advertising </Li> <Li> 5 Legal requirements <Ul> <Li> 5.1 Australia </Li> <Li> 5.2 Canada </Li> <Li> 5.3 European Union </Li> <Li> 5.4 United States </Li> </Ul> </Li> <Li> 6 See also </Li> <Li> 7 References </Li> </Ul> <P> </P> <H2> History </H2> <P> Email marketing has evolved rapidly alongside the technological growth of the 21st century . Prior to this growth , when emails were novelties to the majority of customers , email marketing was not as effective . In 1978 , Gary Thuerk of Digital Equipment Corporation ( DEC ) sent out the first mass email to approximately 400 potential clients via the Advanced Research Projects Agency Network ( ARPANET ) . This email resulted in $13 million worth of sales in DEC products , and highlighted the potential of marketing through mass emails . However , as email marketing developed as an effective means of direct communication , users began blocking out content from emails with filters and blocking programs . In order to effectively communicate a message through email , marketers had to develop a way of pushing content through to the end user , without being cut out by automatic filters and spam removing software . This resulted in the birth of triggered marketing emails , which are sent to specific users based on their tracked online browsing patterns . </P> <P> Historically , it has been difficult to measure the effectiveness of marketing campaigns because target markets can not be adequately defined . Email marketing carries the benefit of allowing marketers to identify returns on investment and measure and improve efficiency . Email marketing allows marketers to see feedback from users in real time , and to monitor how effective their campaign is in achieving market penetration , revealing a communication channel 's scope . At the same time , however , it also means that the more personal nature of certain advertising methods , such as television advertisements , can not be captured . </P> <H2> Types </H2> <P> Email marketing can be carried out through different types of emails : </P> <H3> Transactional emails </H3> <P> Transactional emails are usually triggered based on a customer 's action with a company . To be qualified as transactional or relationship messages , these communications ' primary purpose must be `` to facilitate , complete , or confirm a commercial transaction that the recipient has previously agreed to enter into with the sender '' along with a few other narrow definitions of transactional messaging . Triggered transactional messages include dropped basket messages , password reset emails , purchase or order confirmation emails , order status emails , reorder emails , and email receipts . </P> <P> The primary purpose of a transactional email is to convey information regarding the action that triggered it . But , due to their high open rates ( 51.3 % compared to 36.6 % for email newsletters ) , transactional emails are an opportunity to introduce or extend the email relationship with customers or subscribers ; to anticipate and answer questions ; or to cross-sell or up - sell products or services . </P> <P> Many email newsletter software vendors offer transactional email support , which gives companies the ability to include promotional messages within the body of transactional emails . There are also software vendors that offer specialized transactional email marketing services , which include providing targeted and personalized transactional email messages and running specific marketing campaigns ( such as customer referral programs ) . </P> <H3> Direct emails </H3> <P> Direct email involves sending an email solely to communicate a promotional message ( for example , a special offer or a product catalog ) . Companies usually collect a list of customer or prospect email addresses to send direct promotional messages to , or they rent a list of email addresses from service companies . Safe mail marketing is also used . </P> Mobile email marketing <P> Email marketing develops large amounts of traffic through smartphones and tablets . Marketers are researching ways to advertise to more users and to make them view advertising for longer . However , the rate of delivery is still relatively low due to better filtering - out of advertising and users having multiple email accounts for different purposes . Because emails are generated according to the tracked behavior of consumers , it is possible to send advertising which is based on the recipient 's behavior . Because of this , modern email marketing is perceived more often as a pull strategy rather than a push strategy . </P> <H2> Comparison to traditional mail </H2> <P> There are both advantages and disadvantages to using email marketing in comparison to traditional advertising mail . </P> <H3> Advantages </H3> <P> Email marketing is popular with companies for several reasons : </P> <Ul> <Li> An exact return on investment can be tracked ( `` track to basket '' ) and has proven to be high when done properly . Email marketing is often reported as second only to search marketing as the most effective online marketing tactic . </Li> <Li> Email marketing is significantly cheaper and faster than traditional mail , mainly because of the high cost and time required in a traditional mail campaign for producing the artwork , printing , addressing , and mailing . </Li> <Li> Businesses and organizations who send a high volume of emails can use an ESP ( email service provider ) to gather information about the behavior of the recipients . The insights provided by consumer response to email marketing help businesses and organizations understand and make use of consumer behavior . </Li> <Li> Email provides a cost - effective method to test different marketing content , including visual , creative , marketing copy , and multimedia assets . The data gathered by testing in the email channel can then be used across all channels of marketing campaigns , both print and digital . </Li> <Li> Advertisers can reach substantial numbers of email subscribers who have opted in ( i.e. , consented ) to receive the email . </Li> <Li> Almost half of American Internet users check or send email on a typical day , with emails delivered between 1 am and 5 am local time outperforming those sent at other times in open and click rates . </Li> <Li> Email is popular with digital marketers , rising an estimated 15 % in 2009 to £ 292 million in the UK . </Li> <Li> If compared to standard email , direct email marketing produces higher response rate and higher average order value for e-commerce businesses . </Li> </Ul> <H3> Disadvantages </H3> <P> As of mid-2016 email deliverability is still an issue for legitimate marketers . According to the report , legitimate email servers averaged a delivery rate of 73 % in the U.S. ; six percent were filtered as spam , and 22 % were missing . This lags behind other countries : Australia delivers at 90 % , Canada at 89 % , Britain at 88 % , France at 84 % , Germany at 80 % and Brazil at 79 % . </P> <P> Additionally , consumers receive on average circa 90 emails per day . </P> <P> Companies considering the use of an email marketing program must make sure that their program does not violate spam laws such as the United States ' Controlling the Assault of Non-Solicited Pornography and Marketing Act ( CAN - SPAM ) , the European Privacy and Electronic Communications Regulations 2003 , or their Internet service provider 's acceptable use policy . </P> <H2> Opt - in email advertising </H2> <P> Opt - in email advertising , or permission marketing , is a method of advertising via email whereby the recipient of the advertisement has consented to receive it . This method is one of several developed by marketers to eliminate the disadvantages of email marketing . </P> <P> Opt - in email marketing may evolve into a technology that uses a handshake protocol between the sender and receiver . This system is intended to eventually result in a high degree of satisfaction between consumers and marketers . If opt - in email advertising is used , the material that is emailed to consumers will be `` anticipated '' . It is assumed that the recipient wants to receive it , which makes it unlike unsolicited advertisements sent to the consumer . Ideally , opt - in email advertisements will be more personal and relevant to the consumer than untargeted advertisements . </P> <P> A common example of permission marketing is a newsletter sent to an advertising firm 's customers . Such newsletters inform customers of upcoming events or promotions , or new products . In this type of advertising , a company that wants to send a newsletter to their customers may ask them at the point of purchase if they would like to receive the newsletter . </P> <P> With a foundation of opted - in contact information stored in their database , marketers can send out promotional materials automatically using autoresponders -- known as drip marketing . They can also segment their promotions to specific market segments . </P> <H2> Legal requirements </H2> <H3> Australia </H3> <P> The Australian Spam Act 2003 is enforced by the Australian Communications and Media Authority , widely known as `` ACMA '' . The act defines the term unsolicited electronic messages , states how unsubscribe functions must work for commercial messages , and gives other key information . Fines range with 3 fines of AU $110,000 being issued to Virgin Blue Airlines ( 2011 ) , Tiger Airways Holdings Limited ( 2012 ) and Cellar master Wines Pty Limited ( 2013 ) . </P> <H3> Canada </H3> <P> The `` Canada Anti-Spam Law '' ( CASL ) went into effect on July 1 , 2014 . CASL requires an explicit or implicit opt - in from users , and the maximum fines for noncompliance are CA $ 1 million for individuals and $10 million for businesses . </P> <H3> European Union </H3> <P> In 2002 the European Union ( EU ) introduced the Directive on Privacy and Electronic Communications . Article 13 of the Directive prohibits the use of personal email addresses for marketing purposes . The Directive establishes the opt - in regime , where unsolicited emails may be sent only with prior agreement of the recipient ; this does not apply to business email addresses . </P> <P> The directive has since been incorporated into the laws of member states . In the UK it is covered under the Privacy and Electronic Communications ( EC Directive ) Regulations 2003 and applies to all organizations that send out marketing by some form of electronic communication . </P> <H3> United states </H3> <P> The CAN - SPAM Act of 2003 was passed by Congress as a direct response of the growing number of complaints over spam e-mails . Congress determined that the US government was showing an increased interest in the regulation of commercial electronic mail nationally , that those who send commercial e-mails should not mislead recipients over the source or content of them , and that all recipients of such emails have a right to decline them . The act authorizes a US $16,000 penalty per violation for spamming each individual recipient . However , it does not ban spam emailing outright , but imposes laws on using deceptive marketing methods through headings which are `` materially false or misleading '' . In addition there are conditions which email marketers must meet in terms of their format , their content and labeling . As a result , many commercial email marketers within the United States utilize a service or special software to ensure compliance with the act . A variety of older systems exist that do not ensure compliance with the act . To comply with the act 's regulation of commercial email , services also typically require users to authenticate their return address and include a valid physical address , provide a one - click unsubscribe feature , and prohibit importing lists of purchased addresses that may not have given valid permission . </P> <P> In addition to satisfying legal requirements , email service providers ( ESPs ) began to help customers establish and manage their own email marketing campaigns . The service providers supply email templates and general best practices , as well as methods for handling subscriptions and cancellations automatically . Some ESPs will provide insight and assistance with deliverability issues for major email providers . They also provide statistics pertaining to the number of messages received and opened , and whether the recipients clicked on any links within the messages . </P> <P> The CAN - SPAM Act was updated with some new regulations including a no - fee provision for opting out , further definition of `` sender '' , post office or private mail boxes count as a `` valid physical postal address '' and definition of `` person '' . These new provisions went into effect on July 7 , 2008 . </P> <H2> See also </H2> <Ul> <Li> CAUCE -- Coalition Against Unsolicited Commercial Email </Li> <Li> Customer engagement </Li> <Li> Suppression list </Li> <Li> Email spam - Unsolicited email marketing </Li> </Ul> <H2> References </H2> <Ol> <Li> Jump up ^ `` spam unsolicited e-mail '' . Retrieved September 19 , 2016 . </Li> <Li> Jump up ^ `` PUBLIC LAW 108 -- 187 -- DEC . 16 , 2003 117 STAT. 2699 '' ( PDF ) . U.S Government GPO . </Li> <Li> Jump up ^ ADIKESAVAN , T. MANAGEMENT INFORMATION SYSTEMS BEST PRACTICES AND APPLICATIONS IN BUSINESS . ISBN 8120348966 . Retrieved July 10 , 2015 . </Li> <Li> Jump up ^ MECLABS , content : MarketingSherpa , design : Scott McDaniel , code : Steve Beger , ( January 21 , 2009 ) . `` New Survey Data : Email 's ROI Makes Tactic Key for Marketers in 2009 '' . MarketingSherpa.com . Retrieved August 12 , 2017 . </Li> <Li> Jump up ^ Pew Internet & American Life Project , `` Tracking surveys '' , March 2000 -- March 2009 </Li> <Li> Jump up ^ How Scheduling Affects Rates . Mailermailer.com ( July 2012 ) . Retrieved on July 28 , 2013 . </Li> <Li> Jump up ^ BtoB Magazine , `` Early Email Blasts Results in Higher Click & Open Rates '' Archived 2011 - 11 - 22 at the Wayback Machine. , September 2011 </Li> <Li> Jump up ^ UK e-mail marketing predicted to rise 15 % . MediaWeek.co.uk ( 13 October 2009 ) </Li> <Li> Jump up ^ `` Why Email Marketing is King '' . Harvard Business Review ( 21 August 2012 ) </Li> <Li> Jump up ^ Roberts , A. `` Email deliverability is on the decline : report '' , ClickZ </Li> <Li> Jump up ^ Radicati , Sara . `` Email Statistics Report , 2014 - 2018 '' ( PDF ) . The Radicati Group , Inc . </Li> <Li> Jump up ^ `` Consumer Information '' . Consumer Information . Retrieved August 12 , 2017 . </Li> <Li> ^ Jump up to : Fairhead , N. ( 2003 ) `` All hail the brave new world of permission marketing via email '' ( Media 16 , August 2003 ) </Li> <Li> Jump up ^ Dilworth , Dianna ( 2007 ) . `` Ruth 's Chris Steak House sends sizzling e-mails for special occasions '' . DMNews . Retrieved February 19 , 2008 . </Li> <Li> Jump up ^ O'Brian J. & Montazemia , A. ( 2004 ) Management Information Systems ( Canada : McGraw - Hill Ryerson Ltd . ) </Li> <Li> Jump up ^ `` Spam : enforcement actions '' . Australian Communications and Media Authority . Australian Communications and Media Authority . Archived from the original on February 29 , 2016 . Retrieved August 15 , 2015 . </Li> <Li> Jump up ^ Moorcraft , Bethan . `` Law could force idle brokers back to dark ages '' . Insurance Business . Retrieved August 12 , 2017 . </Li> <Li> Jump up ^ `` Canada 's law on spam '' . Government of Canada . Retrieved July 19 , 2014 ... </Li> <Li> Jump up ^ The Privacy and Electronic Communications ( EC Directive ) Regulations 2003 Archived November 14 , 2006 , at the Wayback Machine ... Opsi.gov.uk . Retrieved on July 28 , 2013 . </Li> <Li> Jump up ^ `` CAN - SPAM Act : A Compliance Guide for Business '' . FTC.gov . BCP Business Center . Retrieved August 10 , 2017 . </Li> <Li> Jump up ^ `` FTC Approves New Rule Provision Under The CAN - SPAM Act '' . FTC.gov . June 24 , 2011 . </Li> <Li> Jump up ^ `` 16 CFR Part 316 Definitions and Implementation Under the CAN -- SPAM Act ; Final Rule '' ( PDF ) . FTC.gov . May 21 , 2008 . </Li> </Ol> Retrieved from `` https://en.wikipedia.org/w/index.php?title=Email_marketing&oldid=814071202 '' Categories : <Ul> <Li> Advertising by medium </Li> <Li> Email </Li> <Li> Digital marketing </Li> <Li> Market research </Li> <Li> Marketing techniques </Li> <Li> Online advertising </Li> <Li> Spamming </Li> </Ul> Hidden categories : <Ul> <Li> Webarchive template wayback links </Li> <Li> Wikipedia indefinitely semi-protected pages </Li> <Li> Articles needing additional references from September 2014 </Li> <Li> All articles needing additional references </Li> <Li> Articles that may contain original research from January 2015 </Li> <Li> All articles that may contain original research </Li> <Li> Articles with multiple maintenance issues </Li> <Li> All articles with unsourced statements </Li> <Li> Articles with unsourced statements from August 2017 </Li> <Li> Articles with unsourced statements from July 2015 </Li> <Li> All Wikipedia articles needing clarification </Li> <Li> Wikipedia articles needing clarification from August 2017 </Li> <Li> Articles with unsourced statements from March 2016 </Li> </Ul> <H2> </H2> <H3> </H3> <Ul> <Li> </Li> <Li> Talk </Li> <Li> </Li> <Li> </Li> <Li> </Li> </Ul> <H3> </H3> <Ul> <Li> </Li> <Li> </Li> </Ul> <H3> </H3> <Ul> </Ul> <H3> </H3> <Ul> <Li> </Li> <Li> View source </Li> <Li> </Li> </Ul> <H3> </H3> <Ul> </Ul> <H3> </H3> <H3> </H3> <Ul> <Li> </Li> <Li> Contents </Li> <Li> </Li> <Li> </Li> <Li> </Li> <Li> </Li> <Li> </Li> </Ul> <H3> </H3> <Ul> <Li> </Li> <Li> About Wikipedia </Li> <Li> </Li> <Li> </Li> <Li> </Li> </Ul> <H3> </H3> <Ul> <Li> </Li> <Li> </Li> <Li> </Li> <Li> </Li> <Li> </Li> <Li> </Li> <Li> </Li> <Li> </Li> </Ul> <H3> </H3> <Ul> <Li> </Li> <Li> </Li> <Li> </Li> </Ul> <H3> </H3> <Ul> <Li> </Li> <Li> বাংলা </Li> <Li> Български </Li> <Li> Català </Li> <Li> Čeština </Li> <Li> Español </Li> <Li> فارسی </Li> <Li> Français </Li> <Li> Italiano </Li> <Li> ಕನ್ನಡ </Li> <Li> ქართული </Li> <Li> Македонски </Li> <Li> Nederlands </Li> <Li> 日本 語 </Li> <Li> Norsk </Li> <Li> Polski </Li> <Li> Português </Li> <Li> Русский </Li> <Li> Српски / srpski </Li> <Li> Svenska </Li> <Li> தமிழ் </Li> <Li> తెలుగు </Li> <Li> ไทย </Li> <Li> Türkçe </Li> <Li> Українська </Li> <Li> Tiếng Việt </Li> <Li> 中文 </Li> 18 more </Ul> Edit links <Ul> <Li> This page was last edited on 6 December 2017 , at 19 : 06 . </Li> <Li> </Li> </Ul> <Ul> <Li> </Li> <Li> About Wikipedia </Li> <Li> </Li> <Li> </Li> <Li> </Li> <Li> </Li> <Li> </Li> <Li> </Li> </Ul> <Ul> <Li> </Li> <Li> </Li> </Ul>\", document_url='https://en.wikipedia.org//w/index.php?title=Email_marketing&amp;oldid=814071202', example_id=5655493461695504401, long_answer_candidates=[Row(end_token=170, start_token=14, top_level=True), Row(end_token=169, start_token=15, top_level=False), Row(end_token=103, start_token=52, top_level=False), Row(end_token=102, start_token=53, top_level=False), Row(end_token=156, start_token=103, top_level=False), Row(end_token=155, start_token=104, top_level=False), Row(end_token=321, start_token=170, top_level=True), Row(end_token=180, start_token=171, top_level=False), Row(end_token=186, start_token=180, top_level=False), Row(end_token=224, start_token=186, top_level=False), Row(end_token=222, start_token=188, top_level=False), Row(end_token=194, start_token=189, top_level=False), Row(end_token=200, start_token=194, top_level=False), Row(end_token=205, start_token=200, top_level=False), Row(end_token=231, start_token=224, top_level=False), Row(end_token=257, start_token=231, top_level=False), Row(end_token=255, start_token=233, top_level=False), Row(end_token=241, start_token=234, top_level=False), Row(end_token=246, start_token=241, top_level=False), Row(end_token=263, start_token=257, top_level=False), Row(end_token=281, start_token=263, top_level=False), Row(end_token=279, start_token=265, top_level=False), Row(end_token=287, start_token=281, top_level=False), Row(end_token=302, start_token=287, top_level=False), Row(end_token=300, start_token=289, top_level=False), Row(end_token=295, start_token=290, top_level=False), Row(end_token=308, start_token=302, top_level=False), Row(end_token=320, start_token=308, top_level=False), Row(end_token=318, start_token=310, top_level=False), Row(end_token=460, start_token=321, top_level=True), Row(end_token=746, start_token=563, top_level=True), Row(end_token=852, start_token=746, top_level=True), Row(end_token=869, start_token=855, top_level=True), Row(end_token=970, start_token=873, top_level=True), Row(end_token=1044, start_token=970, top_level=True), Row(end_token=1107, start_token=1044, top_level=True), Row(end_token=1175, start_token=1111, top_level=True), Row(end_token=1286, start_token=1178, top_level=True), Row(end_token=1311, start_token=1292, top_level=True), Row(end_token=1326, start_token=1314, top_level=True), Row(end_token=1629, start_token=1326, top_level=True), Row(end_token=1373, start_token=1327, top_level=False), Row(end_token=1412, start_token=1373, top_level=False), Row(end_token=1464, start_token=1412, top_level=False), Row(end_token=1516, start_token=1464, top_level=False), Row(end_token=1540, start_token=1516, top_level=False), Row(end_token=1580, start_token=1540, top_level=False), Row(end_token=1604, start_token=1580, top_level=False), Row(end_token=1628, start_token=1604, top_level=False), Row(end_token=1716, start_token=1632, top_level=True), Row(end_token=1730, start_token=1716, top_level=True), Row(end_token=1792, start_token=1730, top_level=True), Row(end_token=1847, start_token=1799, top_level=True), Row(end_token=1952, start_token=1847, top_level=True), Row(end_token=2019, start_token=1952, top_level=True), Row(end_token=2061, start_token=2019, top_level=True), Row(end_token=2152, start_token=2068, top_level=True), Row(end_token=2206, start_token=2155, top_level=True), Row(end_token=2277, start_token=2210, top_level=True), Row(end_token=2326, start_token=2277, top_level=True), Row(end_token=2565, start_token=2330, top_level=True), Row(end_token=2656, start_token=2565, top_level=True), Row(end_token=2720, start_token=2656, top_level=True)], question_text='which is the most common use of opt-in e-mail marketing')]"
            ]
          },
          "metadata": {
            "tags": []
          },
          "execution_count": 24
        }
      ]
    },
    {
      "cell_type": "code",
      "metadata": {
        "id": "ITz7cTGqXS2p",
        "colab_type": "code",
        "colab": {}
      },
      "source": [
        ""
      ],
      "execution_count": 0,
      "outputs": []
    }
  ]
}